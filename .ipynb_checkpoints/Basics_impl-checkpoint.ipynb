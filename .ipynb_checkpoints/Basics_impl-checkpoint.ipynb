{
 "cells": [
  {
   "cell_type": "code",
   "execution_count": 61,
   "id": "e6634948-706c-4b11-894a-cc7e23a1556d",
   "metadata": {
    "scrolled": true
   },
   "outputs": [
    {
     "name": "stdout",
     "output_type": "stream",
     "text": [
      "10 dharan\n",
      "140706101590744 1485288806880\n",
      "num1 id  -  140706101590904\n",
      "string id  -  1485295073584\n",
      "variable type -  <class 'str'>\n",
      "list id  -  1485295222080\n",
      "list id  -  1485295222080\n"
     ]
    }
   ],
   "source": [
    "num1 = 10\n",
    "stringVar = \"dharan\"\n",
    "print(num1, stringVar)\n",
    "print(id(num1), id(stringVar))\n",
    "\n",
    "# Immutable + reference\n",
    "num1 += 5\n",
    "print(\"num1 id  - \", id(num1))\n",
    "\n",
    "stringVar += \" is bad\"\n",
    "print(\"string id  - \", id(stringVar))\n",
    "print(\"variable type - \", type(stringVar))\n",
    "\n",
    "# List \n",
    "listVar = ['a', 'b', 'c']\n",
    "print(\"list id  - \", id(listVar))\n",
    "listVar += \"aa\"\n",
    "print(\"list id  - \", id(listVar))"
   ]
  },
  {
   "cell_type": "code",
   "execution_count": 104,
   "id": "7d20de68-9f3c-4b2a-bdb7-472ac59e9202",
   "metadata": {},
   "outputs": [
    {
     "name": "stdout",
     "output_type": "stream",
     "text": [
      "     Name      |  Age       \n",
      "--------------------\n",
      "     Rahul     |  25        \n",
      "     Kavin     |  26        \n",
      "   Sushmitha   |  23        \n"
     ]
    }
   ],
   "source": [
    "# String formatting\n",
    "# {[<name>][!<conversion>][:<format_spec>]}\n",
    "# :[[<fill>]<align>][<sign>][#][0][<width>][<group>][.<prec>][<type>]\n",
    "\n",
    "# https://realpython.com/python-formatted-output/#the-string-format-method-arguments\n",
    "# I wrote everything in the fString instead of format()\n",
    "\n",
    "students = [(\"Rahul\", 25),(\"Kavin\", 26),(\"Sushmitha\", 23)]\n",
    "print(f\"{'Name':^15}{'|':<3}{'Age':<10}\")\n",
    "print(f\"{'':->20}\")\n",
    "\n",
    "for student in students:\n",
    "    print(f\"{student[0]:^15}{'|':<3}{student[1]:<10}\")"
   ]
  },
  {
   "cell_type": "code",
   "execution_count": 34,
   "id": "8e5a44fc-97b9-4980-876b-2012f37198a0",
   "metadata": {},
   "outputs": [
    {
     "name": "stdout",
     "output_type": "stream",
     "text": [
      "\n",
      "Here is the array\n",
      "1 2 3 "
     ]
    }
   ],
   "source": [
    "# Array\n",
    "import array as arr\n",
    "a = arr.array('i', [1,2,3])\n",
    "print(\"\\nHere is the array\")\n",
    "for i in a:\n",
    "    print(i, end=\" \")"
   ]
  },
  {
   "cell_type": "code",
   "execution_count": 141,
   "id": "cf22dd54-38f2-4e2a-a4bb-8fad340c860b",
   "metadata": {},
   "outputs": [
    {
     "name": "stdout",
     "output_type": "stream",
     "text": [
      "2\n",
      "['b', 'c', 'b', 'a']\n",
      "['b', 'c', 'a']\n",
      "1\n",
      "['b', 2, 1]\n"
     ]
    }
   ],
   "source": [
    "list1 = ['a', 'b', 'c', 'b']\n",
    "list2 = [1, 2, 3]\n",
    "print(list1.count('b'))\n",
    "\n",
    "list1.reverse()\n",
    "print(list1)\n",
    "\n",
    "list1.pop(2)\n",
    "print(list1)\n",
    "\n",
    "print(list1.index('c'))\n",
    "list1[1:3] = [2, 1]\n",
    "print(list1)"
   ]
  },
  {
   "cell_type": "code",
   "execution_count": 160,
   "id": "ae68167a-0ffb-466b-95a6-d8567571249f",
   "metadata": {},
   "outputs": [
    {
     "name": "stdout",
     "output_type": "stream",
     "text": [
      "name      Dharan    \n",
      "age       27        \n",
      "{'name': 'Dharan Rajan', 'age': 27}\n",
      "<class 'dict'>\n",
      "('name', 'Dharan Rajan')\n",
      "('age', 27)\n"
     ]
    }
   ],
   "source": [
    "map1 = {'name': 'Dharan', 'age': 27}\n",
    "for (i,j) in map1.items():\n",
    "    print(f\"{i:<10}{j:<10}\")\n",
    "\n",
    "map1['name'] = 'Dharan Rajan'\n",
    "print(map1)\n",
    "\n",
    "# for i in map1.keys():\n",
    "#     print(i)\n",
    "# for i in map1.values():\n",
    "#     print(i)\n",
    "\n",
    "def test(**kwargs):\n",
    "    print(type(kwargs))\n",
    "    for i in kwargs.items():\n",
    "        print(i)\n",
    "test(**map1)"
   ]
  },
  {
   "cell_type": "code",
   "execution_count": 112,
   "id": "b9e6a957-28bb-432b-801f-faea11ef9b62",
   "metadata": {},
   "outputs": [
    {
     "name": "stdout",
     "output_type": "stream",
     "text": [
      "{'b', 'a', 'c'}\n",
      "{'a', 'z', 'y', 'b', 'c', 'x'}\n",
      "{'b'}\n",
      "{'a', 'c'}\n",
      "False\n"
     ]
    }
   ],
   "source": [
    "thisset = {'a', 'b', 'c'}\n",
    "print(thisset)\n",
    "\n",
    "thatset = {'b', 'x', 'y', 'z'}\n",
    "print(thisset | thatset)\n",
    "print(thisset & thatset)\n",
    "print(thisset - thatset)\n",
    "print(thisset > thatset)"
   ]
  },
  {
   "cell_type": "code",
   "execution_count": 171,
   "id": "1e580520-24bb-40a6-bed2-993565fdae54",
   "metadata": {},
   "outputs": [
    {
     "name": "stdout",
     "output_type": "stream",
     "text": [
      "True\n",
      "False\n"
     ]
    }
   ],
   "source": [
    "# Difference between is and ==\n",
    "list2 = [1,2,3]\n",
    "list3 = [1,2,3]\n",
    "\n",
    "print(list2 == list3)\n",
    "print(list2 is list3) # id(list2) is not same as id(list3)"
   ]
  },
  {
   "cell_type": "code",
   "execution_count": 185,
   "id": "439c5232-c2c2-4842-a777-27719fabf9c7",
   "metadata": {},
   "outputs": [
    {
     "name": "stdout",
     "output_type": "stream",
     "text": [
      "Overall identities\n",
      "1485298158784 1485298206912\n",
      "\n",
      "Individual Identities\n",
      "1485298159168 1485298159168\n",
      "\n",
      "Overall identities\n",
      "1485298158784 1485298158336\n",
      "\n",
      "Individual Identities\n",
      "1485298159168 1485294754304\n"
     ]
    }
   ],
   "source": [
    "#Copies\n",
    "baseList = [1, 2, (3, 4, 5), [6, 7]]\n",
    "derivedList = baseList.copy()\n",
    "\n",
    "# Shallow copy\n",
    "print(\"Overall identities\")\n",
    "print(id(baseList), id(derivedList))\n",
    "\n",
    "print(\"\\nIndividual Identities\")\n",
    "print(id(baseList[3]), id(derivedList[3]))\n",
    "\n",
    "#Deep copy\n",
    "import copy\n",
    "diffList = copy.deepcopy(baseList)\n",
    "print(\"\\nOverall identities\")\n",
    "print(id(baseList), id(diffList))\n",
    "\n",
    "print(\"\\nIndividual Identities\")\n",
    "print(id(baseList[3]), id(diffList[3]))"
   ]
  }
 ],
 "metadata": {
  "kernelspec": {
   "display_name": "Python 3 (ipykernel)",
   "language": "python",
   "name": "python3"
  },
  "language_info": {
   "codemirror_mode": {
    "name": "ipython",
    "version": 3
   },
   "file_extension": ".py",
   "mimetype": "text/x-python",
   "name": "python",
   "nbconvert_exporter": "python",
   "pygments_lexer": "ipython3",
   "version": "3.12.4"
  }
 },
 "nbformat": 4,
 "nbformat_minor": 5
}
