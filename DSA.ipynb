{
 "cells": [
  {
   "cell_type": "code",
   "execution_count": 1,
   "id": "6ea8cfc1-7241-4991-bcdd-443d0746d838",
   "metadata": {},
   "outputs": [
    {
     "name": "stdout",
     "output_type": "stream",
     "text": [
      "[-2, -7, -1, 7, 3, 3, 1]\n"
     ]
    }
   ],
   "source": [
    "# Sorting negative and positive numbers\n",
    "num1 = [1,3,-1,-7,7,3,-2]\n",
    "\n",
    "i, j = 0, len(num1)-1\n",
    "while i<=j:\n",
    "    if num1[i]<0:\n",
    "        i += 1\n",
    "    else:\n",
    "        num1[i], num1[j] = num1[j], num1[i]\n",
    "        j-=1\n",
    "print(num1)"
   ]
  },
  {
   "cell_type": "code",
   "execution_count": null,
   "id": "75004f46-7066-4b48-9bb0-6500e3c17b42",
   "metadata": {},
   "outputs": [],
   "source": [
    "#Dutch flag problem\n",
    "nums = [0,1,1,0,2,1,0,2,0,1]\n",
    "r,w,b = 0,0,len(nums)-1\n",
    "\n",
    "while w<=b:\n",
    "    if nums[w]==2:\n",
    "        #Form the blues in the end\n",
    "        nums[w], nums[b] = nums[b], nums[w]\n",
    "        b -= 1\n",
    "    elif nums[w]==1:\n",
    "        # No worries\n",
    "        w += 1\n",
    "    else:\n",
    "        #Form the whites in front\n",
    "        nums[w], nums[r] = nums[r], nums[w]\n",
    "        w += 1\n",
    "        r += 1\n",
    "\n",
    "print(nums)"
   ]
  },
  {
   "cell_type": "code",
   "execution_count": 1,
   "id": "9d9df042-775e-44f6-b777-5f444a305fb2",
   "metadata": {},
   "outputs": [
    {
     "name": "stdout",
     "output_type": "stream",
     "text": [
      "8\n"
     ]
    }
   ],
   "source": [
    "# Largest subarray with sum k\n",
    "# Optimal solution with sliding \n",
    "nums = [20, -10, 4, 7, 8, -8, 7, 6]\n",
    "target = 14\n",
    "N = 8\n",
    "i = j = 0\n",
    "\n",
    "total = 0\n",
    "maxi = 0\n",
    "\n",
    "while j <= N:\n",
    "    if total == target:\n",
    "        maxi = max(maxi, j-i+1)\n",
    "        j += 1\n",
    "    elif total > target:\n",
    "        total -= nums[i]\n",
    "        i += 1\n",
    "    else:\n",
    "        total += nums[j]\n",
    "        j += 1\n",
    "        \n",
    "print(maxi)"
   ]
  },
  {
   "cell_type": "code",
   "execution_count": 10,
   "id": "f728f0dc-24b5-4ba3-94f1-e8eb0e153679",
   "metadata": {},
   "outputs": [
    {
     "name": "stdout",
     "output_type": "stream",
     "text": [
      "3.0 4.0\n"
     ]
    }
   ],
   "source": [
    "# Find the missing and repeat\n",
    "nums = [3,1,2,5,3]\n",
    "n = len(nums)\n",
    "\n",
    "# Sum and Squares of nums\n",
    "S = S2 = 0\n",
    "for i in nums:\n",
    "    S += i\n",
    "    S2 += i * i\n",
    "\n",
    "# Sum and Squares of \"expected\" nums\n",
    "SN = (n * (n + 1)) / 2\n",
    "S2N = (n * (n + 1) * (2 * n + 1)) / 6\n",
    "\n",
    "# Deriving expressions\n",
    "val1 = S - SN # x - y\n",
    "val2 = (S2 - S2N) / val1 # x + y\n",
    "\n",
    "#x\n",
    "x = (val1 + val2) / 2\n",
    "\n",
    "#y\n",
    "y = val2 - x\n",
    "\n",
    "print(x, y)"
   ]
  },
  {
   "cell_type": "code",
   "execution_count": 65,
   "id": "59d2d6e7-27bd-4a52-b96d-71f112c3f044",
   "metadata": {
    "scrolled": true
   },
   "outputs": [
    {
     "name": "stdout",
     "output_type": "stream",
     "text": [
      "[1, 2, 3, 4, 6, 9]\n"
     ]
    }
   ],
   "source": [
    "#Sorting algorithms\n",
    "#Bubble Sort\n",
    "nums = [3,1,9,4,6,2]\n",
    "N = len(nums)\n",
    "for i in range(N):\n",
    "    swapped = False\n",
    "    for j in range(0, N-i-1):\n",
    "        if nums[j] > nums[j+1]:\n",
    "            nums[j], nums[j+1] = nums[j+1], nums[j]\n",
    "        swapped = True\n",
    "    if not swapped:\n",
    "        break\n",
    "        \n",
    "# Selection \n",
    "nums = [3,1,9,4,6,2]\n",
    "for i in range(N):\n",
    "    minIndex = i\n",
    "    for j in range(i+1, N):\n",
    "        if nums[j] < nums[minIndex]:\n",
    "            minIndex = j\n",
    "    nums[i], nums[minIndex] = nums[minIndex], nums[i]\n",
    "\n",
    "# Insertion\n",
    "nums = [3,1,9,4,6,2]\n",
    "for i in range(1, N):\n",
    "    j = i\n",
    "    while j > 0 and nums[j-1] > nums[j]:\n",
    "        nums[j-1], nums[j] = nums[j], nums[j-1]\n",
    "        j -= 1\n"
   ]
  },
  {
   "cell_type": "code",
   "execution_count": 1,
   "id": "c9ae3c1b-14ad-4452-90e0-decf80819971",
   "metadata": {},
   "outputs": [
    {
     "name": "stdout",
     "output_type": "stream",
     "text": [
      "[1, 2, 3, 4, 5, 6]\n"
     ]
    }
   ],
   "source": [
    "# QuickSort\n",
    "def QuickSort(nums, l, h):\n",
    "    if l < h:\n",
    "        p = partition(nums, l, h)\n",
    "        QuickSort(nums, l, p)\n",
    "        QuickSort(nums, p+1, h)\n",
    "\n",
    "def partition(nums, l, h):\n",
    "    pivot = nums[l]\n",
    "    i, j = l, h\n",
    "    while i<j:\n",
    "        while i<h and pivot >= nums[i]:\n",
    "            i += 1\n",
    "        while j>l and pivot <= nums[j]:\n",
    "            j -= 1\n",
    "        if i<j:\n",
    "            # Swap the highest in the left to the lowest in the right\n",
    "            # Highest & lowest is compared with pivot\n",
    "            nums[i], nums[j] = nums[j], nums[i]\n",
    "\n",
    "    # Swap the pivot to the j\n",
    "    nums[l], nums[j] = nums[j], nums[l]\n",
    "    return j\n",
    "    \n",
    "# nums = [3,1,9,4,6,2]\n",
    "nums = [3,2,1,5,6,4]\n",
    "QuickSort(nums, 0, len(nums)-1)\n",
    "print(nums)"
   ]
  },
  {
   "cell_type": "code",
   "execution_count": 5,
   "id": "05ec04ab-f134-41c5-81f4-49c088b03be6",
   "metadata": {},
   "outputs": [
    {
     "name": "stdout",
     "output_type": "stream",
     "text": [
      "[1, 2, 3, 4, 6, 9]\n"
     ]
    }
   ],
   "source": [
    "# MergeSort\n",
    "def merge(nums, l, mid, h):\n",
    "    arr = []\n",
    "    i, j = l, mid+1\n",
    "    while i<=mid and j<=h:\n",
    "        if nums[i] < nums[j]:\n",
    "            arr.append(nums[i])\n",
    "            i += 1\n",
    "        else:\n",
    "            arr.append(nums[j])\n",
    "            j += 1\n",
    "    while i<=mid:\n",
    "        arr.append(nums[i])\n",
    "        i += 1\n",
    "    while j<=h:\n",
    "        arr.append(nums[j])\n",
    "        j += 1\n",
    "    for i in arr:\n",
    "        nums[l] = i\n",
    "        l+=1\n",
    "    # return arr\n",
    "\n",
    "def mergeSort(nums, l, h):\n",
    "    if l<h:\n",
    "        mid = (l+h)//2\n",
    "        mergeSort(nums, l, mid)\n",
    "        mergeSort(nums, mid+1, h)\n",
    "        merge(nums, l, mid, h)\n",
    "\n",
    "nums = [3,1,9,4,6,2]\n",
    "mergeSort(nums, 0, 5)\n",
    "print(nums)"
   ]
  },
  {
   "cell_type": "code",
   "execution_count": 3,
   "id": "4a704b56-19c0-4a04-afb8-d4a782d4eee4",
   "metadata": {},
   "outputs": [
    {
     "name": "stdout",
     "output_type": "stream",
     "text": [
      "[40, 20, 25, 12, 10, 15, 18]\n"
     ]
    }
   ],
   "source": [
    "# Heap Sort\n",
    "def heapify(nums, n, i):\n",
    "    largest = i\n",
    "    l = 2*i + 1\n",
    "    r = 2*i + 2\n",
    "\n",
    "    if l < n and nums[l] > nums[largest]:\n",
    "        largest = l\n",
    "\n",
    "    if r < n and nums[r] > nums[largest]:\n",
    "        largest = r\n",
    "\n",
    "    if largest!=i:\n",
    "        nums[i], nums[largest] = nums[largest], nums[i]\n",
    "        heapify(nums, n, largest)\n",
    "\n",
    "def HeapSort(nums, n):\n",
    "    for i in range((n//2)-1, -1, -1):\n",
    "        heapify(nums, n, i)\n",
    "\n",
    "    # for i in range(n-1, -1, -1):\n",
    "    #     nums[0], nums[i] = nums[i], nums[0]\n",
    "    #     heapify(nums, i, 0)\n",
    "\n",
    "nums = [10,20,15,12,40,25,18]\n",
    "HeapSort(nums, 7)\n",
    "print(nums)"
   ]
  },
  {
   "cell_type": "code",
   "execution_count": 80,
   "id": "76245e51-14f3-4581-8610-08c9f20a4840",
   "metadata": {},
   "outputs": [
    {
     "name": "stdout",
     "output_type": "stream",
     "text": [
      "[1, 1, 2, 2, 2, 3, 3, 5, 5, 6, 7]\n"
     ]
    }
   ],
   "source": [
    "# Counting Sort\n",
    "nums = [3,1,2,5,7,3,2,1,5,6,2]\n",
    "\n",
    "# Find max\n",
    "maxi = nums[0]\n",
    "for i in nums:\n",
    "    maxi = max(maxi, i)\n",
    "\n",
    "# Counting array\n",
    "arr = [0]*(maxi+1)\n",
    "\n",
    "# Counting\n",
    "for i in nums:\n",
    "    arr[i] += 1\n",
    "\n",
    "# Sorted Array\n",
    "index = 0\n",
    "for i in range(len(arr)):\n",
    "    count = arr[i]\n",
    "    while count != 0:\n",
    "        nums[index] = i\n",
    "        index += 1\n",
    "        count -= 1\n",
    "    \n",
    "print(nums)"
   ]
  },
  {
   "cell_type": "code",
   "execution_count": 103,
   "id": "aee4e2b9-35f1-4559-bd5b-eb996dc0281e",
   "metadata": {},
   "outputs": [
    {
     "name": "stdout",
     "output_type": "stream",
     "text": [
      "2\n"
     ]
    }
   ],
   "source": [
    "coins = [25, 10, 5]\n",
    "V = 30\n",
    "\n",
    "coins = sorted(coins, reverse=True)\n",
    "mini = float('inf')\n",
    "\n",
    "for i in range(3):\n",
    "    total, rem = 0, V\n",
    "    for j in range(i, 3):\n",
    "        if rem>0 and coins[j]<=rem:\n",
    "            total += rem // coins[j]\n",
    "            rem = V % coins[j]\n",
    "    \n",
    "    mini = min(mini, total)\n",
    "print(mini or -1)\n",
    "    "
   ]
  },
  {
   "cell_type": "code",
   "execution_count": 149,
   "id": "ca0cd5ed-c47a-4add-b7ab-5afb3b0c896e",
   "metadata": {},
   "outputs": [],
   "source": [
    "# Queue Implementation\n",
    "class MyQueue:\n",
    "    def __init__(self):\n",
    "        self.front=0\n",
    "        self.back=0\n",
    "        self.currSize=0\n",
    "        \n",
    "        self.capacity=5\n",
    "        self.arr=[0]*self.capacity\n",
    "        \n",
    "    #Function to push an element x in a queue.\n",
    "    def push(self, x):\n",
    "        if self.currSize==self.capacity:\n",
    "            print(\"Queue is full\")\n",
    "            return -1\n",
    "        \n",
    "        self.arr[self.back]=x\n",
    "        self.back=(self.back+1)%self.capacity\n",
    "        self.currSize+=1\n",
    "     \n",
    "    #Function to pop an element from queue and return that element.\n",
    "    def pop(self): \n",
    "        if self.currSize==0:\n",
    "            print(\"Queue is empty\")\n",
    "            return -1\n",
    "        else:\n",
    "            x=self.arr[self.front]\n",
    "            self.front+=1\n",
    "            self.currSize-=1\n",
    "            return x\n",
    "\n",
    "    def display(self):\n",
    "        start = self.front\n",
    "        end = self.front + self.currSize\n",
    "        while start<end:\n",
    "            print(self.arr[start%self.capacity])\n",
    "            start+=1\n",
    "\n",
    "q = MyQueue()\n",
    "# for i in range(5):\n",
    "#     q.push(i+1)\n",
    "# q.pop()\n",
    "# q.push(20)\n",
    "\n",
    "q.push\n",
    "q.display()"
   ]
  },
  {
   "cell_type": "code",
   "execution_count": 154,
   "id": "440b5368-96e3-4ba6-86ca-a1a2d6b9bfdd",
   "metadata": {},
   "outputs": [
    {
     "name": "stdout",
     "output_type": "stream",
     "text": [
      "dict_keys([3, 2, 30, 9])\n"
     ]
    }
   ],
   "source": [
    "# Dijkstra Algorithm\n",
    "# Required params\n",
    "# PQ, Distance Array and parent Array\n",
    "# Strategy -> BFS\n",
    "\n",
    "def dijkstra(self, V, adj, S):\n",
    "    from queue import PriorityQueue\n",
    "    pq = PriorityQueue()\n",
    "    distance = [float('inf')]*V\n",
    "    \n",
    "    pq.put((S, 0))\n",
    "    distance[S]=0\n",
    "    \n",
    "    while not pq.empty():\n",
    "        node, weight = pq.get()\n",
    "        for (adjNode, edgeWeight) in adj[node]:\n",
    "            newWeight = weight+edgeWeight\n",
    "            if newWeight < distance[adjNode]:\n",
    "                distance[adjNode]=newWeight\n",
    "                pq.put((adjNode, newWeight))\n",
    "                \n",
    "    return distance\n",
    "\n",
    "# This algorithm fails for negative cycles"
   ]
  },
  {
   "cell_type": "code",
   "execution_count": null,
   "id": "081132e2-f1bf-4dee-8101-a4dea846f7b8",
   "metadata": {},
   "outputs": [],
   "source": [
    "# Bellman-Ford Algorithm\n",
    "# The given edges can be of any order\n",
    "# The algorthm states that we have to relax the edges N-1 times sequentially\n",
    "\n",
    "# Required params - distance Array alone\n",
    "# if(dist[u] + wt < dist[v])\n",
    "def bellman_ford(self, V, edges, S):\n",
    "    infy=100000000\n",
    "    dis = [infy]*V\n",
    "    dis[S]=0\n",
    "    \n",
    "    for i in range(V-1):\n",
    "        for u, v, wt in edges:\n",
    "            if dis[u] != infy: # If you havent reached to this point, then ignore\n",
    "                if dis[u]+wt < dis[v]:\n",
    "                    dis[v]=dis[u]+wt\n",
    "\n",
    "    # Detect negative cycles\n",
    "    # Just do one more relaxation, if it still passes the condition and new shortest distance,\n",
    "    # Then there must be a cycle in the graph\n",
    "    for u, v, wt in edges:\n",
    "        if dis[u] != infy:\n",
    "            if dis[u]+wt < dis[v]:\n",
    "                return [-1]\n",
    "    \n",
    "    return dis\n",
    "\n",
    "# This algorithm detect negative cycles but,\n",
    "# Only for the directed graph\n",
    "# For undirected graph, its good to convert to the directed graph"
   ]
  },
  {
   "cell_type": "code",
   "execution_count": null,
   "id": "291f443f-5841-4f76-aaec-5d15958ce52b",
   "metadata": {},
   "outputs": [],
   "source": [
    "# Floyd Warshall\n",
    "\n",
    "# So Djikstra's is single source shortest path\n",
    "# But Floyd Warshalls is MULTI SOURCE SHORTED PATH ALGORITHM\n",
    "# From this algo, we can generate shortest path from any node to any node\n",
    "\n",
    "# Strategy: Via concept. Like generate all the possible ways with via\n",
    "# If shorted path between i and j has to be found, then i->k and k-> j needs to be found\n",
    "# Hence for all the edges, find all the vias\n",
    "def shortest_distance(self, matrix):\n",
    "    n = len(matrix)\n",
    "    \n",
    "    for i in range(n):\n",
    "        for j in range(n):\n",
    "            if matrix[i][j]==-1:\n",
    "                matrix[i][j]=float('inf')\n",
    "                \n",
    "    for k in range(n):\n",
    "        for i in range(n):\n",
    "            for j in range(n):\n",
    "                matrix[i][j]=min(matrix[i][j], matrix[i][k]+matrix[k][j])\n",
    "                \n",
    "    for i in range(n):\n",
    "        for j in range(n):\n",
    "            if matrix[i][j]==float('inf'):\n",
    "                matrix[i][j]=-1\n",
    "                \n",
    "    return matrix   \n",
    "\n"
   ]
  },
  {
   "cell_type": "code",
   "execution_count": null,
   "id": "486ae08b-c102-4b11-a614-79a5d86fc8ba",
   "metadata": {},
   "outputs": [],
   "source": [
    "# Prim's Algorithm\n",
    "def spanningTree(self, V, adj):\n",
    "    from queue import PriorityQueue\n",
    "    pq = PriorityQueue()\n",
    "\n",
    "    pq.put((0,0,-1))\n",
    "    visited = [0]*V\n",
    "    sum = 0\n",
    "    \n",
    "    while not pq.empty():\n",
    "        wt, v, u = pq.get()\n",
    "        if visited[v]==0:\n",
    "            visited[v]=1\n",
    "            sum+=wt\n",
    "\n",
    "            for vy, w in adj[v]:\n",
    "                pq.put((w,vy,v))\n",
    "            \n",
    "    return sum"
   ]
  },
  {
   "cell_type": "code",
   "execution_count": 11,
   "id": "35092131-d4e5-4d78-b054-612971b93cf4",
   "metadata": {},
   "outputs": [
    {
     "name": "stdout",
     "output_type": "stream",
     "text": [
      "16\n",
      "14\n"
     ]
    }
   ],
   "source": [
    "# Binary search algos\n",
    "def ceiling(nums, target):\n",
    "    def f(start, end):\n",
    "        if start > end:\n",
    "            return nums[start]\n",
    "            \n",
    "        mid = (start+end)//2\n",
    "        elem = nums[mid]\n",
    "        if target==elem:\n",
    "            return elem\n",
    "        elif target>elem:\n",
    "            return f(mid+1, end)\n",
    "        else:\n",
    "            return f(start, mid-1)\n",
    "    return f(0, len(nums))\n",
    "\n",
    "def floor(nums, target):\n",
    "    def f(start, end):\n",
    "        if start > end:\n",
    "            return nums[end]\n",
    "            \n",
    "        mid = (start+end)//2\n",
    "        elem = nums[mid]\n",
    "        if target==elem:\n",
    "            return elem\n",
    "        elif target>elem:\n",
    "            return f(mid+1, end)\n",
    "        else:\n",
    "            return f(start, mid-1)\n",
    "    return f(0, len(nums))\n",
    "    \n",
    "nums = [2,3,5,9,14,16,18]\n",
    "target = 15\n",
    "print(ceiling(nums, target))\n",
    "print(floor(nums, target))"
   ]
  },
  {
   "cell_type": "code",
   "execution_count": 4,
   "id": "5be93d4f-de31-41e8-92a4-ee3461ebc4d4",
   "metadata": {},
   "outputs": [
    {
     "name": "stdout",
     "output_type": "stream",
     "text": [
      "(1, 's')\n"
     ]
    }
   ],
   "source": [
    "# Heap\n",
    "import heapq\n",
    "l = [(3, 'a'), (2, 'c'), (1, 's')]\n",
    "\n",
    "heap = []\n",
    "for i in l:\n",
    "    heapq.heappush(heap, i)\n",
    "\n",
    "print(heap[0])"
   ]
  }
 ],
 "metadata": {
  "kernelspec": {
   "display_name": "Python 3 (ipykernel)",
   "language": "python",
   "name": "python3"
  },
  "language_info": {
   "codemirror_mode": {
    "name": "ipython",
    "version": 3
   },
   "file_extension": ".py",
   "mimetype": "text/x-python",
   "name": "python",
   "nbconvert_exporter": "python",
   "pygments_lexer": "ipython3",
   "version": "3.12.4"
  }
 },
 "nbformat": 4,
 "nbformat_minor": 5
}
