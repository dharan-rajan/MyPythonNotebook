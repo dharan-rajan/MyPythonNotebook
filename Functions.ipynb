{
 "cells": [
  {
   "cell_type": "code",
   "execution_count": 55,
   "id": "a9c1f80c-35ec-4f77-8928-82bfb32267fa",
   "metadata": {},
   "outputs": [
    {
     "name": "stdout",
     "output_type": "stream",
     "text": [
      "Entered the inner function\n",
      "Duck does quack\n",
      "Duck does walk\n",
      "1 5\n",
      "The output 10\n",
      "Executed at 2024-06-20 17:44:04.676120\n"
     ]
    }
   ],
   "source": [
    "# Decorator factory returns a Decorator\n",
    "# Decorator returns the decorated Function\n",
    "def clocking(printTime): \n",
    "    def clocking(func):\n",
    "        def innerFunction(*args):\n",
    "            print(\"Entered the inner function\")\n",
    "            result = func(*args)\n",
    "            print(\"The output\", result)\n",
    "            \n",
    "            if printTime:\n",
    "                import datetime\n",
    "                print(\"Executed at\", datetime.datetime.now())\n",
    "        return innerFunction\n",
    "    return clocking\n",
    "\n",
    "@clocking(printTime=True)\n",
    "def duck(a, b):\n",
    "    print(\"Duck does quack\")\n",
    "    print(\"Duck does walk\")\n",
    "    print(a, b)\n",
    "    return 10\n",
    "\n",
    "duck(1,5)"
   ]
  },
  {
   "cell_type": "code",
   "execution_count": 54,
   "id": "8f0cf4f1-5e41-4903-9a2d-3ad8ba6074ff",
   "metadata": {},
   "outputs": [
    {
     "name": "stdout",
     "output_type": "stream",
     "text": [
      "20.0\n",
      "('value',)\n",
      "('count', 'listOfValues', 'sum')\n",
      "(<cell at 0x000002358EB44340: int object at 0x00007FF8B133F9F8>, <cell at 0x000002359007E590: list object at 0x00000235905B0800>, <cell at 0x000002359007ECB0: int object at 0x00007FF8B1340118>)\n",
      "3\n"
     ]
    }
   ],
   "source": [
    "# Closure Idealogies\n",
    "def average():\n",
    "    sum = 0\n",
    "    count = 0\n",
    "    listOfValues = []\n",
    "    def calculate(value):\n",
    "        nonlocal sum\n",
    "        nonlocal count\n",
    "        listOfValues.append(value)\n",
    "        sum += value\n",
    "        count += 1\n",
    "        return sum / count \n",
    "    return calculate\n",
    "\n",
    "avg = average()\n",
    "avg(10)\n",
    "avg(20)\n",
    "print(avg(30))\n",
    "\n",
    "#  meta\n",
    "print(avg.__code__.co_varnames)\n",
    "print(avg.__code__.co_freevars)\n",
    "\n",
    "# Cell contents\n",
    "print(avg.__closure__)\n",
    "print(avg.__closure__[0].cell_contents)"
   ]
  },
  {
   "cell_type": "code",
   "execution_count": 61,
   "id": "f058ba4b-b2fd-4f35-b060-f5bf068e2fea",
   "metadata": {},
   "outputs": [
    {
     "name": "stdout",
     "output_type": "stream",
     "text": [
      "Sum of two integers\n",
      "Sum of two lists\n",
      "Sum of two strings\n"
     ]
    }
   ],
   "source": [
    "from functools import singledispatch\n",
    "\n",
    "# Function overloading\n",
    "@singledispatch\n",
    "def sumOf(a, b):\n",
    "    print(\"Sum of two integers\")\n",
    "\n",
    "@sumOf.register\n",
    "def _(a: str, b: str):\n",
    "    print(\"Sum of two strings\")\n",
    "\n",
    "@sumOf.register\n",
    "def _(a: list, b: list):\n",
    "    print(\"Sum of two lists\")\n",
    "\n",
    "sumOf(1, 2)\n",
    "sumOf([1,2], [3,4])\n",
    "sumOf('dharan', 'rajan')"
   ]
  },
  {
   "cell_type": "code",
   "execution_count": 124,
   "id": "9fd5e914-4135-4f45-a87c-631f5f0281a1",
   "metadata": {},
   "outputs": [
    {
     "name": "stdout",
     "output_type": "stream",
     "text": [
      "20\n",
      "40\n",
      "60\n",
      "80\n",
      "100\n"
     ]
    }
   ],
   "source": [
    "# Generator function\n",
    "def TwentyzList():\n",
    "    index = 0\n",
    "    value = 0\n",
    "    while index < 5:\n",
    "        value += 20\n",
    "        yield value\n",
    "        index += 1\n",
    "\n",
    "for i in TwentyzList():\n",
    "    print(i)\n",
    "\n",
    "# If separately handled, then try catch should be there \n",
    "# for the last iteration exception"
   ]
  },
  {
   "cell_type": "code",
   "execution_count": 145,
   "id": "825f34ef-2e45-4d58-a2e8-2fbb3120a5ca",
   "metadata": {},
   "outputs": [
    {
     "name": "stdout",
     "output_type": "stream",
     "text": [
      "10.0\n",
      "15.0\n",
      "26.666666666666668\n",
      "35.0\n",
      "42.0\n"
     ]
    }
   ],
   "source": [
    "# Couroutines\n",
    "def getAverage():\n",
    "    count = 0\n",
    "    sumValue = 0\n",
    "    while count < 10:\n",
    "        value = yield sumValue / count if count > 0 else 0\n",
    "        sumValue += value\n",
    "        count += 1\n",
    "\n",
    "avg = getAverage()\n",
    "next(avg)\n",
    "for i in [10, 20, 50, 60, 70]:\n",
    "    print(avg.send(i))\n",
    "\n",
    "# One point to remember is for the "
   ]
  },
  {
   "cell_type": "code",
   "execution_count": null,
   "id": "5b63471a-0814-4d17-9d0f-85d3b1ff9802",
   "metadata": {},
   "outputs": [],
   "source": []
  }
 ],
 "metadata": {
  "kernelspec": {
   "display_name": "Python 3 (ipykernel)",
   "language": "python",
   "name": "python3"
  },
  "language_info": {
   "codemirror_mode": {
    "name": "ipython",
    "version": 3
   },
   "file_extension": ".py",
   "mimetype": "text/x-python",
   "name": "python",
   "nbconvert_exporter": "python",
   "pygments_lexer": "ipython3",
   "version": "3.12.4"
  }
 },
 "nbformat": 4,
 "nbformat_minor": 5
}
