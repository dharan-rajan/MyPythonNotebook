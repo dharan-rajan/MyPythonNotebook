{
 "cells": [
  {
   "cell_type": "code",
   "execution_count": 34,
   "id": "49d6702d-d611-4b81-a9b2-bd4ace873566",
   "metadata": {},
   "outputs": [
    {
     "name": "stdout",
     "output_type": "stream",
     "text": [
      "8\n",
      "16\n",
      "7\n"
     ]
    }
   ],
   "source": [
    "# Amazon question I attended Code 1\n",
    "\n",
    "def getMinTime(n, requests, minGap):\n",
    "    # Frequency Map\n",
    "    freqMap = {}\n",
    "    for i in requests:\n",
    "        if i in freqMap:\n",
    "            freqMap[i]+=1\n",
    "        else:\n",
    "            freqMap[i]=1\n",
    "\n",
    "    # LastSeen map\n",
    "    keys = freqMap.keys()\n",
    "    lastSeenMap = {}\n",
    "    for i in keys:\n",
    "        lastSeenMap[i]=-(minGap+1)\n",
    "\n",
    "    def doesAllRequestsProcessed(freqMap):\n",
    "        for i in freqMap.keys():\n",
    "            if freqMap[i]>0:\n",
    "                return False\n",
    "        return True\n",
    "\n",
    "    dp = {}\n",
    "    \n",
    "    def f(counter, sel):\n",
    "        if (counter, sel) in dp:\n",
    "            return dp[(counter, sel)]\n",
    "            \n",
    "        if doesAllRequestsProcessed(freqMap):\n",
    "            return 0\n",
    "\n",
    "        mini = float('inf')\n",
    "        requestTaken = False\n",
    "\n",
    "        for request in freqMap.keys():\n",
    "            if freqMap[request] > 0 and abs(counter-lastSeenMap[request]) > minGap:\n",
    "\n",
    "                # Changes data before calling subs\n",
    "                freqMap[request]-=1\n",
    "                previousLastSeen = lastSeenMap[request]\n",
    "                lastSeenMap[request]=counter\n",
    "\n",
    "                # Minimize\n",
    "                mini = min(mini, 1+f(counter+1, request))\n",
    "                requestTaken = True\n",
    "\n",
    "                # Revert back\n",
    "                freqMap[request]+=1\n",
    "                lastSeenMap[request]=previousLastSeen\n",
    "\n",
    "        if requestTaken:\n",
    "            dp[(counter, sel)] = mini\n",
    "        else:\n",
    "            dp[(counter, sel)] =  1+f(counter+1, \"_\")\n",
    "        return dp[(counter, sel)]\n",
    "        \n",
    "    return f(0, \"\")\n",
    "\n",
    "print(getMinTime(6, \"aaabbb\", 2))\n",
    "print(getMinTime(12, \"abacadaeafag\", 2))\n",
    "print(getMinTime(8, \"aaabbcc\", 2))"
   ]
  },
  {
   "cell_type": "code",
   "execution_count": 60,
   "id": "e021853c-1840-454a-864c-14fa72730e1d",
   "metadata": {},
   "outputs": [
    {
     "name": "stdout",
     "output_type": "stream",
     "text": [
      "[4, 1, 0]\n",
      "[4, 2, 1, 0]\n",
      "[3, 2, 1, 0]\n"
     ]
    }
   ],
   "source": [
    "def findRequestsInQueue(wait):\n",
    "    freqMap = {}\n",
    "    for i in wait:\n",
    "        if i in freqMap:\n",
    "            freqMap[i]+=1\n",
    "        else:\n",
    "            freqMap[i]=1\n",
    "\n",
    "    N = len(wait)\n",
    "    serving = 0\n",
    "    time = 1\n",
    "\n",
    "    ret = []\n",
    "    ret.append(N)\n",
    "\n",
    "    while N > 0:\n",
    "        # Expired\n",
    "        N = N - freqMap.get(time, 0)\n",
    "        freqMap[time]=0\n",
    "\n",
    "        # Processed\n",
    "        if time!=wait[serving]:\n",
    "            N -= 1\n",
    "            freqMap[wait[serving]]-=1 \n",
    "\n",
    "        # Next serving\n",
    "        serving+=1\n",
    "        while serving < len(wait) and time >= wait[serving]:\n",
    "            serving += 1\n",
    "\n",
    "        # If exceeds, then return it with 0 in end\n",
    "        if serving >= len(wait):\n",
    "            ret.append(0)\n",
    "            return ret\n",
    "        \n",
    "        time+=1\n",
    "        ret.append(N)\n",
    "\n",
    "    return ret\n",
    "\n",
    "print(findRequestsInQueue([3, 1, 2, 1]))\n",
    "print(findRequestsInQueue([2, 2, 3, 1]))\n",
    "print(findRequestsInQueue([4, 4, 4]))"
   ]
  },
  {
   "cell_type": "code",
   "execution_count": null,
   "id": "3e2fc070-5528-4ff3-94e2-5ab9e4411733",
   "metadata": {},
   "outputs": [],
   "source": []
  }
 ],
 "metadata": {
  "kernelspec": {
   "display_name": "Python 3 (ipykernel)",
   "language": "python",
   "name": "python3"
  },
  "language_info": {
   "codemirror_mode": {
    "name": "ipython",
    "version": 3
   },
   "file_extension": ".py",
   "mimetype": "text/x-python",
   "name": "python",
   "nbconvert_exporter": "python",
   "pygments_lexer": "ipython3",
   "version": "3.12.4"
  }
 },
 "nbformat": 4,
 "nbformat_minor": 5
}
