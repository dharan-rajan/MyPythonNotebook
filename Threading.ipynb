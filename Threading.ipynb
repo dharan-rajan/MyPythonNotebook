{
 "cells": [
  {
   "cell_type": "code",
   "execution_count": 2,
   "id": "175cb042-b55a-41a8-b3ad-26bd020ca15c",
   "metadata": {},
   "outputs": [
    {
     "name": "stdout",
     "output_type": "stream",
     "text": [
      "Entered\n",
      "Closed\n"
     ]
    }
   ],
   "source": [
    "# Basic time.sleep\n",
    "import time\n",
    "def f():\n",
    "    print(\"Entered\")\n",
    "    time.sleep(2)\n",
    "    print(\"Closed\")\n",
    "f()"
   ]
  },
  {
   "cell_type": "code",
   "execution_count": 123,
   "id": "6bd63884-0a61-4d48-a1a3-e789c7c26fe3",
   "metadata": {},
   "outputs": [
    {
     "name": "stdout",
     "output_type": "stream",
     "text": [
      "Hello 1\n",
      "Hello 3\n",
      "Hello 2\n"
     ]
    }
   ],
   "source": [
    "# Basic Multi-threading\n",
    "import time\n",
    "import threading\n",
    "\n",
    "def f(a, sleepTime):\n",
    "    time.sleep(sleepTime)\n",
    "    print(f\"Hello {a}\")\n",
    "\n",
    "for i, j in zip([1, 2, 3], [5, 5, 5]):\n",
    "    # Normal Flow\n",
    "    # f(i, j,)\n",
    "\n",
    "    # Multithreading flow\n",
    "    threading.Thread(target=f, args=(i, j,)).start()\n",
    "\n",
    "# Each thread is created in parallel\n",
    "# But task 10 got sleep time 3, 20 got 2 and task 30 got 1\n",
    "# Hence ended in different timings :)"
   ]
  },
  {
   "cell_type": "code",
   "execution_count": 124,
   "id": "a83e6580-de3f-436f-a100-454c74c9845d",
   "metadata": {},
   "outputs": [
    {
     "name": "stdout",
     "output_type": "stream",
     "text": [
      "Hello 1\n",
      "Closed 1\n",
      "Result for task 10 -> 101\n",
      "\n",
      "Hello 2\n",
      "Closed 2\n",
      "Result for task 20 -> 102\n"
     ]
    }
   ],
   "source": [
    "# Creating coroutines \n",
    "# And running them await statements\n",
    "# So its one by one :)\n",
    "import asyncio\n",
    "async def f(id, sTime):\n",
    "    print(f\"Hello {id}\")\n",
    "    await asyncio.sleep(sTime)\n",
    "    print(f\"Closed {id}\")\n",
    "    return id+100\n",
    "\n",
    "async def main():\n",
    "    t1=f(1, 5)\n",
    "    t2=f(2, 5)\n",
    "\n",
    "    result = await t1\n",
    "    print(f\"Result for task {10} -> {result}\")\n",
    "    print()\n",
    "\n",
    "    result = await t2\n",
    "    print(f\"Result for task {20} -> {result}\")\n",
    "await main()"
   ]
  },
  {
   "cell_type": "code",
   "execution_count": 128,
   "id": "95f760b8-0657-4217-80bc-8ec9c2b82846",
   "metadata": {},
   "outputs": [
    {
     "name": "stdout",
     "output_type": "stream",
     "text": [
      "Hello 1\n",
      "Hello 2\n",
      "Closed 1\n",
      "Closed 2\n",
      "Result for task 10 -> 101\n",
      "Result for task 20 -> 102\n"
     ]
    }
   ],
   "source": [
    "# Creating coroutines \n",
    "# Running them by creating asyncio tasks\n",
    "# Now because of jupyter notebook - i can use asyncio.run\n",
    "# but here things worked concurrently\n",
    "\n",
    "import asyncio\n",
    "async def f(id, sTime):\n",
    "    print(f\"Hello {id}\")\n",
    "    await asyncio.sleep(sTime)\n",
    "    print(f\"Closed {id}\")\n",
    "    return id+100\n",
    "\n",
    "async def main():\n",
    "    t1=asyncio.create_task(f(1, 5))\n",
    "    t2=asyncio.create_task(f(2, 5))\n",
    "\n",
    "    result = await t1\n",
    "    print(f\"Result for task {10} -> {result}\")\n",
    "    \n",
    "    result = await t2\n",
    "    print(f\"Result for task {20} -> {result}\")\n",
    "await main()"
   ]
  },
  {
   "cell_type": "code",
   "execution_count": 137,
   "id": "4d5828d0-bb07-4abc-81fe-f796971a21b7",
   "metadata": {},
   "outputs": [
    {
     "name": "stdout",
     "output_type": "stream",
     "text": [
      "Hello 1\n",
      "Hello 2\n",
      "Hello 3\n",
      "Closed 1\n",
      "Closed 2\n",
      "Closed 3\n",
      "Result for task 0 -> 101\n",
      "Result for task 1 -> 102\n",
      "Result for task 2 -> 103\n"
     ]
    }
   ],
   "source": [
    "# Same as above\n",
    "# But not using create_task everytime\n",
    "# Instead used gather method of asyncio :)\n",
    "\n",
    "import asyncio\n",
    "async def f(id, sTime):\n",
    "    print(f\"Hello {id}\")\n",
    "    await asyncio.sleep(sTime)\n",
    "    print(f\"Closed {id}\")\n",
    "    return id+100\n",
    "\n",
    "async def main():\n",
    "    results = await asyncio.gather(f(1, 5), f(2, 5), f(3, 5))\n",
    "    for i in range(3):\n",
    "        print(f\"Result for task {i} -> {results[i]}\")\n",
    "await main()"
   ]
  },
  {
   "cell_type": "code",
   "execution_count": 153,
   "id": "1f39567f-1422-4a00-86d6-9626acacf5c1",
   "metadata": {},
   "outputs": [
    {
     "name": "stdout",
     "output_type": "stream",
     "text": [
      "Hello 1\n",
      "Hello 2\n",
      "Hello 3\n",
      "Closed 1\n",
      "Closed 3\n"
     ]
    }
   ],
   "source": [
    "# Same as above\n",
    "# But not using create_task everytime\n",
    "# Instead used gather method of asyncio :)\n",
    "\n",
    "# But the problem here is\n",
    "# If one of the coroutine failes - lets sayy coroutine 2\n",
    "# Then it will moves to the next task and in the end results wont be generated :(\n",
    "\n",
    "# Which is super weird\n",
    "import asyncio\n",
    "async def f(id, sTime):\n",
    "    print(f\"Hello {id}\")\n",
    "    await asyncio.sleep(sTime)\n",
    "    if id==2:\n",
    "        raise ValueError\n",
    "    print(f\"Closed {id}\")\n",
    "    return id+100\n",
    "\n",
    "async def main():\n",
    "    results = []\n",
    "    try:\n",
    "        results = await asyncio.gather(f(1, 5), f(2, 5), f(3, 5))\n",
    "    except Exception as e:\n",
    "        pass\n",
    "        \n",
    "    for i in results:\n",
    "        print(f\"Result for task -> {results[i]}\")\n",
    "await main()"
   ]
  },
  {
   "cell_type": "code",
   "execution_count": 154,
   "id": "f5cd09a9-7e58-4b7b-8d1b-a3f4e35bdd07",
   "metadata": {},
   "outputs": [
    {
     "name": "stdout",
     "output_type": "stream",
     "text": [
      "Hello 0\n",
      "Hello 1\n",
      "Hello 2\n",
      "Closed 0\n",
      "Closed 2\n",
      "Result for task -> 100\n",
      "Result for task -> 102\n"
     ]
    }
   ],
   "source": [
    "# Same as above\n",
    "# Now lets use task Group\n",
    "# Here by using task group tg - we are creating the tasks\n",
    "# And then we can retain the results here to show to the user\n",
    "# Also the exception is so descriptive\n",
    "\n",
    "import asyncio\n",
    "async def f(id, sTime):\n",
    "    print(f\"Hello {id}\")\n",
    "    await asyncio.sleep(sTime)\n",
    "    if id==1:\n",
    "        raise ValueError\n",
    "    print(f\"Closed {id}\")\n",
    "    return id+100\n",
    "\n",
    "async def main():\n",
    "    tasks = []\n",
    "    try:\n",
    "        async with asyncio.TaskGroup() as tg:\n",
    "            for i in range(3):\n",
    "                task = tg.create_task(f(i, 5))\n",
    "                tasks.append(task)\n",
    "    except Exception as e:\n",
    "        pass\n",
    "            \n",
    "    for i in tasks:\n",
    "        try:\n",
    "            print(f\"Result for task -> {i.result()}\")\n",
    "        except Exception as e:\n",
    "            pass\n",
    "await main()"
   ]
  },
  {
   "cell_type": "code",
   "execution_count": null,
   "id": "05ec246c-61fb-4290-8044-6f3122dfbb82",
   "metadata": {},
   "outputs": [],
   "source": []
  }
 ],
 "metadata": {
  "kernelspec": {
   "display_name": "Python 3 (ipykernel)",
   "language": "python",
   "name": "python3"
  },
  "language_info": {
   "codemirror_mode": {
    "name": "ipython",
    "version": 3
   },
   "file_extension": ".py",
   "mimetype": "text/x-python",
   "name": "python",
   "nbconvert_exporter": "python",
   "pygments_lexer": "ipython3",
   "version": "3.12.4"
  }
 },
 "nbformat": 4,
 "nbformat_minor": 5
}
